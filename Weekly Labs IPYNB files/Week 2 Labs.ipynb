{
 "cells": [
  {
   "cell_type": "markdown",
   "metadata": {},
   "source": [
    "# MATM063: Principles of Data Science, Python LAB"
   ]
  },
  {
   "cell_type": "markdown",
   "metadata": {},
   "source": [
    "Important to note, [Start:Stop:Step] is the format for all matrix operations, if left as blank the start is at the beginning, the stop is at the end and the step is 1."
   ]
  },
  {
   "cell_type": "code",
   "execution_count": 15,
   "metadata": {},
   "outputs": [
    {
     "data": {
      "text/plain": [
       "array([[1.        , 0.5       , 0.33333333, 0.25      ],\n",
       "       [0.5       , 0.33333333, 0.25      , 0.2       ],\n",
       "       [0.33333333, 0.25      , 0.2       , 0.16666667],\n",
       "       [0.25      , 0.2       , 0.16666667, 0.14285714]])"
      ]
     },
     "execution_count": 15,
     "metadata": {},
     "output_type": "execute_result"
    }
   ],
   "source": [
    "import scipy as sp\n",
    "n=4\n",
    "A = sp.linalg.hilbert(n)\n",
    "s = A[::1, :]\n",
    "s"
   ]
  },
  {
   "cell_type": "markdown",
   "metadata": {},
   "source": [
    "## Worksheet 2 (Week 2) Exercises only"
   ]
  },
  {
   "cell_type": "markdown",
   "metadata": {},
   "source": [
    "#### Question 1: Defining matrices and performing operations"
   ]
  },
  {
   "cell_type": "code",
   "execution_count": 7,
   "metadata": {},
   "outputs": [
    {
     "name": "stdout",
     "output_type": "stream",
     "text": [
      "2.3333333333333335\n",
      "5.0\n",
      "3.0\n",
      "One can see that column 2 has the largest mean\n"
     ]
    }
   ],
   "source": [
    "import numpy as np\n",
    "A = np.array([[1,4,2],[3,5,7],[4,3,2]])\n",
    "print(np.mean(A[0]))\n",
    "print(np.mean(A[1])) \n",
    "print(np.mean(A[2]))\n",
    "print(f'One can see that column 2 has the largest mean')"
   ]
  },
  {
   "cell_type": "markdown",
   "metadata": {},
   "source": [
    "Define a four by four matrix A and find its transpose, trace, determinant and inverse."
   ]
  },
  {
   "cell_type": "code",
   "execution_count": null,
   "metadata": {},
   "outputs": [
    {
     "name": "stdout",
     "output_type": "stream",
     "text": [
      "[[1 2 3 4]\n",
      " [2 2 3 9]\n",
      " [1 1 3 9]\n",
      " [1 2 3 5]]\n",
      "11\n",
      "-2.9999999999999996\n",
      "[[ 4.00000000e+00 -4.00000000e+00  3.00000000e+00 -1.00000000e+00]\n",
      " [ 1.00000000e+00 -2.36847579e-16 -3.33333333e-01 -5.92118946e-17]\n",
      " [-0.00000000e+00 -1.00000000e+00  6.66666667e-01 -0.00000000e+00]\n",
      " [-5.00000000e+00  5.00000000e+00 -3.00000000e+00  1.00000000e+00]]\n"
     ]
    }
   ],
   "source": [
    "A = np.array([[1,2,1,1],[2,2,1,2],[3,3,3,3],[4,9,9,5]])\n",
    "\n",
    "A_transpose = A.T\n",
    "A_trace = np.trace(A)\n",
    "A_determinant = np.linalg.det(A)\n",
    "A_inverse = np.linalg.inv(A)\n",
    "\n",
    "print(A_transpose)\n",
    "print(A_trace)\n",
    "print(A_determinant)\n",
    "print(A_inverse)"
   ]
  },
  {
   "cell_type": "markdown",
   "metadata": {},
   "source": [
    "#### Question 2: Solving Matrix-vector systems"
   ]
  },
  {
   "cell_type": "code",
   "execution_count": 29,
   "metadata": {},
   "outputs": [
    {
     "name": "stdout",
     "output_type": "stream",
     "text": [
      "{x: -1/5, y: 7/5}\n"
     ]
    }
   ],
   "source": [
    "from sympy import symbols, Eq, solve\n",
    "\n",
    "x, y = symbols('x y')\n",
    "\n",
    "eq1 = Eq(3*x + 4*y, 5) \n",
    "eq2 = Eq(-1*x + 2*y, 3) \n",
    "\n",
    "solution = solve((eq1, eq2), (x, y))\n",
    "print(solution)  \n"
   ]
  },
  {
   "cell_type": "code",
   "execution_count": 30,
   "metadata": {},
   "outputs": [
    {
     "name": "stdout",
     "output_type": "stream",
     "text": [
      "{x: 3/2, y: 0, z: 1/2}\n"
     ]
    }
   ],
   "source": [
    "x, y, z = symbols('x y z')\n",
    "\n",
    "eq1 = Eq(4*x -5*y + 2*z, 7) \n",
    "eq2 = Eq(8*x +5*y - 4*z, 10) \n",
    "eq3 = Eq(3*x - 2*y + 1*z, 5)\n",
    "\n",
    "solution = solve((eq1, eq2, eq3), (x, y, z))\n",
    "print(solution) "
   ]
  },
  {
   "cell_type": "markdown",
   "metadata": {},
   "source": [
    "#### Question 3: Pandas: treating NaN and None values"
   ]
  },
  {
   "cell_type": "code",
   "execution_count": 33,
   "metadata": {},
   "outputs": [
    {
     "name": "stdout",
     "output_type": "stream",
     "text": [
      "     A    B   C    D\n",
      "0  NaN  2.0 NaN  0.0\n",
      "1  3.0  4.0 NaN  1.0\n",
      "2  NaN  NaN NaN  NaN\n",
      "3  NaN  3.0 NaN  4.0\n"
     ]
    }
   ],
   "source": [
    "import pandas as pd\n",
    "\n",
    "df = pd.DataFrame([[np.nan, 2, None, 0],\n",
    "[3, 4, np.nan, 1],\n",
    "[None, np.nan, np.nan, np.nan],\n",
    "[np.nan, 3, np.nan, 4]],\n",
    "columns=list(\"ABCD\"))\n",
    "\n",
    "print(df)"
   ]
  },
  {
   "cell_type": "markdown",
   "metadata": {},
   "source": [
    "##### Fill missing values with 0"
   ]
  },
  {
   "cell_type": "code",
   "execution_count": 45,
   "metadata": {},
   "outputs": [
    {
     "name": "stdout",
     "output_type": "stream",
     "text": [
      "     A    B    C    D\n",
      "0  0.0  2.0  0.0  0.0\n",
      "1  3.0  4.0  0.0  1.0\n",
      "2  0.0  0.0  0.0  0.0\n",
      "3  0.0  3.0  0.0  4.0\n",
      "     A    B   C    D\n",
      "0  NaN  2.0 NaN  0.0\n",
      "1  3.0  4.0 NaN  1.0\n",
      "2  NaN  NaN NaN  NaN\n",
      "3  NaN  3.0 NaN  4.0\n"
     ]
    }
   ],
   "source": [
    "df.fillna(0)\n",
    "print(df.fillna(0))\n",
    "print(df)\n",
    "#this shows that df itself is not changed by the fillna command, \n",
    "#we will omit this moving forward"
   ]
  },
  {
   "cell_type": "markdown",
   "metadata": {},
   "source": [
    "##### using the forward and backward method"
   ]
  },
  {
   "cell_type": "code",
   "execution_count": 43,
   "metadata": {},
   "outputs": [
    {
     "name": "stdout",
     "output_type": "stream",
     "text": [
      "     A    B   C    D\n",
      "0  NaN  2.0 NaN  0.0\n",
      "1  3.0  4.0 NaN  1.0\n",
      "2  3.0  4.0 NaN  1.0\n",
      "3  3.0  3.0 NaN  4.0\n",
      "     A    B   C    D\n",
      "0  3.0  2.0 NaN  0.0\n",
      "1  3.0  4.0 NaN  1.0\n",
      "2  NaN  3.0 NaN  4.0\n",
      "3  NaN  3.0 NaN  4.0\n"
     ]
    }
   ],
   "source": [
    "print(df.ffill())\n",
    "print(df.bfill())\n",
    "#note that the filling methods do not change values already defined to be non-zero"
   ]
  },
  {
   "cell_type": "markdown",
   "metadata": {},
   "source": [
    "##### filling all missing values per column with the column mean"
   ]
  },
  {
   "cell_type": "code",
   "execution_count": 44,
   "metadata": {},
   "outputs": [
    {
     "data": {
      "text/html": [
       "<div>\n",
       "<style scoped>\n",
       "    .dataframe tbody tr th:only-of-type {\n",
       "        vertical-align: middle;\n",
       "    }\n",
       "\n",
       "    .dataframe tbody tr th {\n",
       "        vertical-align: top;\n",
       "    }\n",
       "\n",
       "    .dataframe thead th {\n",
       "        text-align: right;\n",
       "    }\n",
       "</style>\n",
       "<table border=\"1\" class=\"dataframe\">\n",
       "  <thead>\n",
       "    <tr style=\"text-align: right;\">\n",
       "      <th></th>\n",
       "      <th>A</th>\n",
       "      <th>B</th>\n",
       "      <th>C</th>\n",
       "      <th>D</th>\n",
       "    </tr>\n",
       "  </thead>\n",
       "  <tbody>\n",
       "    <tr>\n",
       "      <th>0</th>\n",
       "      <td>3.0</td>\n",
       "      <td>2.0</td>\n",
       "      <td>NaN</td>\n",
       "      <td>0.000000</td>\n",
       "    </tr>\n",
       "    <tr>\n",
       "      <th>1</th>\n",
       "      <td>3.0</td>\n",
       "      <td>4.0</td>\n",
       "      <td>NaN</td>\n",
       "      <td>1.000000</td>\n",
       "    </tr>\n",
       "    <tr>\n",
       "      <th>2</th>\n",
       "      <td>3.0</td>\n",
       "      <td>3.0</td>\n",
       "      <td>NaN</td>\n",
       "      <td>1.666667</td>\n",
       "    </tr>\n",
       "    <tr>\n",
       "      <th>3</th>\n",
       "      <td>3.0</td>\n",
       "      <td>3.0</td>\n",
       "      <td>NaN</td>\n",
       "      <td>4.000000</td>\n",
       "    </tr>\n",
       "  </tbody>\n",
       "</table>\n",
       "</div>"
      ],
      "text/plain": [
       "     A    B   C         D\n",
       "0  3.0  2.0 NaN  0.000000\n",
       "1  3.0  4.0 NaN  1.000000\n",
       "2  3.0  3.0 NaN  1.666667\n",
       "3  3.0  3.0 NaN  4.000000"
      ]
     },
     "execution_count": 44,
     "metadata": {},
     "output_type": "execute_result"
    }
   ],
   "source": [
    "df.fillna(value=df.mean())"
   ]
  },
  {
   "cell_type": "markdown",
   "metadata": {},
   "source": [
    "##### replace in df all missing values in columns A,B,C,D with 1,2,3,4 respectively, this time actually modifying df"
   ]
  },
  {
   "cell_type": "code",
   "execution_count": 46,
   "metadata": {},
   "outputs": [
    {
     "name": "stdout",
     "output_type": "stream",
     "text": [
      "     A    B   C    D\n",
      "0  NaN  2.0 NaN  0.0\n",
      "1  3.0  4.0 NaN  1.0\n",
      "2  NaN  NaN NaN  NaN\n",
      "3  NaN  3.0 NaN  4.0\n"
     ]
    }
   ],
   "source": [
    "print(df)"
   ]
  },
  {
   "cell_type": "code",
   "execution_count": 52,
   "metadata": {},
   "outputs": [
    {
     "name": "stdout",
     "output_type": "stream",
     "text": [
      "     A    B    C    D\n",
      "0  1.0  2.0  3.0  0.0\n",
      "1  3.0  4.0  3.0  1.0\n",
      "2  1.0  2.0  3.0  4.0\n",
      "3  1.0  3.0  3.0  4.0 Df is now changed\n"
     ]
    }
   ],
   "source": [
    "df['A'] = df['A'].fillna(1)\n",
    "df['B'] = df['B'].fillna(2)\n",
    "df['C'] = df['C'].fillna(3)\n",
    "df['D'] = df['D'].fillna(4)\n",
    "print(df, f'Df is now changed')"
   ]
  },
  {
   "cell_type": "markdown",
   "metadata": {},
   "source": [
    "#### Question 4: Pandas: working with Series and DataFrames"
   ]
  },
  {
   "cell_type": "markdown",
   "metadata": {},
   "source": [
    "A fruit shop sells in 1 day on average (in kg) (20 bananas, 35 apples, 11 pears, 5 pineapples) for a price per kilo of (1.9, 3.5, 4.2, 6.7), respectively."
   ]
  },
  {
   "cell_type": "markdown",
   "metadata": {},
   "source": [
    "Create to data series named nmb_sold and price_kg and create a data frame where the keys share the names of these data series."
   ]
  },
  {
   "cell_type": "code",
   "execution_count": 71,
   "metadata": {},
   "outputs": [
    {
     "data": {
      "text/html": [
       "<div>\n",
       "<style scoped>\n",
       "    .dataframe tbody tr th:only-of-type {\n",
       "        vertical-align: middle;\n",
       "    }\n",
       "\n",
       "    .dataframe tbody tr th {\n",
       "        vertical-align: top;\n",
       "    }\n",
       "\n",
       "    .dataframe thead th {\n",
       "        text-align: right;\n",
       "    }\n",
       "</style>\n",
       "<table border=\"1\" class=\"dataframe\">\n",
       "  <thead>\n",
       "    <tr style=\"text-align: right;\">\n",
       "      <th></th>\n",
       "      <th>kg_sold</th>\n",
       "      <th>price_kg</th>\n",
       "    </tr>\n",
       "  </thead>\n",
       "  <tbody>\n",
       "    <tr>\n",
       "      <th>Bananas</th>\n",
       "      <td>20</td>\n",
       "      <td>1.9</td>\n",
       "    </tr>\n",
       "    <tr>\n",
       "      <th>Apples</th>\n",
       "      <td>35</td>\n",
       "      <td>3.5</td>\n",
       "    </tr>\n",
       "    <tr>\n",
       "      <th>Pears</th>\n",
       "      <td>11</td>\n",
       "      <td>4.2</td>\n",
       "    </tr>\n",
       "    <tr>\n",
       "      <th>Pineapples</th>\n",
       "      <td>5</td>\n",
       "      <td>6.7</td>\n",
       "    </tr>\n",
       "  </tbody>\n",
       "</table>\n",
       "</div>"
      ],
      "text/plain": [
       "            kg_sold  price_kg\n",
       "Bananas          20       1.9\n",
       "Apples           35       3.5\n",
       "Pears            11       4.2\n",
       "Pineapples        5       6.7"
      ]
     },
     "execution_count": 71,
     "metadata": {},
     "output_type": "execute_result"
    }
   ],
   "source": [
    "kg_sold = pd.Series({'Bananas': 20, 'Apples': 35, 'Pears': 11, 'Pineapples':5})\n",
    "price_kg = pd.Series({'Bananas':1.9, 'Apples': 3.5, 'Pears': 4.2, 'Pineapples': 6.7})\n",
    "data = pd.DataFrame({'kg_sold':kg_sold, 'price_kg':price_kg})\n",
    "data"
   ]
  },
  {
   "cell_type": "markdown",
   "metadata": {},
   "source": [
    "Add a column named income that presents the money the shop earned through these sellings for each fruit type."
   ]
  },
  {
   "cell_type": "code",
   "execution_count": 72,
   "metadata": {},
   "outputs": [
    {
     "data": {
      "text/html": [
       "<div>\n",
       "<style scoped>\n",
       "    .dataframe tbody tr th:only-of-type {\n",
       "        vertical-align: middle;\n",
       "    }\n",
       "\n",
       "    .dataframe tbody tr th {\n",
       "        vertical-align: top;\n",
       "    }\n",
       "\n",
       "    .dataframe thead th {\n",
       "        text-align: right;\n",
       "    }\n",
       "</style>\n",
       "<table border=\"1\" class=\"dataframe\">\n",
       "  <thead>\n",
       "    <tr style=\"text-align: right;\">\n",
       "      <th></th>\n",
       "      <th>kg_sold</th>\n",
       "      <th>price_kg</th>\n",
       "      <th>income</th>\n",
       "    </tr>\n",
       "  </thead>\n",
       "  <tbody>\n",
       "    <tr>\n",
       "      <th>Bananas</th>\n",
       "      <td>20</td>\n",
       "      <td>1.9</td>\n",
       "      <td>38.0</td>\n",
       "    </tr>\n",
       "    <tr>\n",
       "      <th>Apples</th>\n",
       "      <td>35</td>\n",
       "      <td>3.5</td>\n",
       "      <td>122.5</td>\n",
       "    </tr>\n",
       "    <tr>\n",
       "      <th>Pears</th>\n",
       "      <td>11</td>\n",
       "      <td>4.2</td>\n",
       "      <td>46.2</td>\n",
       "    </tr>\n",
       "    <tr>\n",
       "      <th>Pineapples</th>\n",
       "      <td>5</td>\n",
       "      <td>6.7</td>\n",
       "      <td>33.5</td>\n",
       "    </tr>\n",
       "  </tbody>\n",
       "</table>\n",
       "</div>"
      ],
      "text/plain": [
       "            kg_sold  price_kg  income\n",
       "Bananas          20       1.9    38.0\n",
       "Apples           35       3.5   122.5\n",
       "Pears            11       4.2    46.2\n",
       "Pineapples        5       6.7    33.5"
      ]
     },
     "execution_count": 72,
     "metadata": {},
     "output_type": "execute_result"
    }
   ],
   "source": [
    "data['income'] = data['kg_sold'] * data['price_kg']\n",
    "data"
   ]
  },
  {
   "cell_type": "markdown",
   "metadata": {},
   "source": [
    "Calculate the total income earned per day by selling fruits and output the following line: The total daily income by selling fruits is ??? Pounds"
   ]
  },
  {
   "cell_type": "code",
   "execution_count": 73,
   "metadata": {},
   "outputs": [
    {
     "name": "stdout",
     "output_type": "stream",
     "text": [
      "The total income perday by selling fruits is 240.2 pounds.\n"
     ]
    }
   ],
   "source": [
    "print(f'The total income perday by selling fruits is', data['income'].sum(), 'pounds.')"
   ]
  },
  {
   "cell_type": "markdown",
   "metadata": {},
   "source": [
    "Add another two rows to the table with average sellings of: Tomatos, 15 kg, and Potatos, 28 kg (price per kg: 2.9 and 1.4, respectively). Create\n",
    "first a new series, then a dataframe, and then add this to the existing dataframe."
   ]
  },
  {
   "cell_type": "code",
   "execution_count": 74,
   "metadata": {},
   "outputs": [
    {
     "data": {
      "text/html": [
       "<div>\n",
       "<style scoped>\n",
       "    .dataframe tbody tr th:only-of-type {\n",
       "        vertical-align: middle;\n",
       "    }\n",
       "\n",
       "    .dataframe tbody tr th {\n",
       "        vertical-align: top;\n",
       "    }\n",
       "\n",
       "    .dataframe thead th {\n",
       "        text-align: right;\n",
       "    }\n",
       "</style>\n",
       "<table border=\"1\" class=\"dataframe\">\n",
       "  <thead>\n",
       "    <tr style=\"text-align: right;\">\n",
       "      <th></th>\n",
       "      <th>kg_sold</th>\n",
       "      <th>price_kg</th>\n",
       "    </tr>\n",
       "  </thead>\n",
       "  <tbody>\n",
       "    <tr>\n",
       "      <th>Tomatoes</th>\n",
       "      <td>15</td>\n",
       "      <td>2.9</td>\n",
       "    </tr>\n",
       "    <tr>\n",
       "      <th>Potatoes</th>\n",
       "      <td>28</td>\n",
       "      <td>1.4</td>\n",
       "    </tr>\n",
       "  </tbody>\n",
       "</table>\n",
       "</div>"
      ],
      "text/plain": [
       "          kg_sold  price_kg\n",
       "Tomatoes       15       2.9\n",
       "Potatoes       28       1.4"
      ]
     },
     "execution_count": 74,
     "metadata": {},
     "output_type": "execute_result"
    }
   ],
   "source": [
    "kg_sold = pd.Series({'Tomatoes':15, 'Potatoes':28})\n",
    "price_kg = pd.Series({'Tomatoes':2.9, 'Potatoes':1.4})\n",
    "data_new = pd.DataFrame({'kg_sold':kg_sold_new, 'price_kg':price_kg_new})\n",
    "data_new"
   ]
  },
  {
   "cell_type": "code",
   "execution_count": 77,
   "metadata": {},
   "outputs": [
    {
     "data": {
      "text/html": [
       "<div>\n",
       "<style scoped>\n",
       "    .dataframe tbody tr th:only-of-type {\n",
       "        vertical-align: middle;\n",
       "    }\n",
       "\n",
       "    .dataframe tbody tr th {\n",
       "        vertical-align: top;\n",
       "    }\n",
       "\n",
       "    .dataframe thead th {\n",
       "        text-align: right;\n",
       "    }\n",
       "</style>\n",
       "<table border=\"1\" class=\"dataframe\">\n",
       "  <thead>\n",
       "    <tr style=\"text-align: right;\">\n",
       "      <th></th>\n",
       "      <th>kg_sold</th>\n",
       "      <th>price_kg</th>\n",
       "      <th>income</th>\n",
       "    </tr>\n",
       "  </thead>\n",
       "  <tbody>\n",
       "    <tr>\n",
       "      <th>Bananas</th>\n",
       "      <td>20</td>\n",
       "      <td>1.9</td>\n",
       "      <td>38.0</td>\n",
       "    </tr>\n",
       "    <tr>\n",
       "      <th>Apples</th>\n",
       "      <td>35</td>\n",
       "      <td>3.5</td>\n",
       "      <td>122.5</td>\n",
       "    </tr>\n",
       "    <tr>\n",
       "      <th>Pears</th>\n",
       "      <td>11</td>\n",
       "      <td>4.2</td>\n",
       "      <td>46.2</td>\n",
       "    </tr>\n",
       "    <tr>\n",
       "      <th>Pineapples</th>\n",
       "      <td>5</td>\n",
       "      <td>6.7</td>\n",
       "      <td>33.5</td>\n",
       "    </tr>\n",
       "    <tr>\n",
       "      <th>Tomatoes</th>\n",
       "      <td>15</td>\n",
       "      <td>2.9</td>\n",
       "      <td>NaN</td>\n",
       "    </tr>\n",
       "    <tr>\n",
       "      <th>Potatoes</th>\n",
       "      <td>28</td>\n",
       "      <td>1.4</td>\n",
       "      <td>NaN</td>\n",
       "    </tr>\n",
       "  </tbody>\n",
       "</table>\n",
       "</div>"
      ],
      "text/plain": [
       "            kg_sold  price_kg  income\n",
       "Bananas          20       1.9    38.0\n",
       "Apples           35       3.5   122.5\n",
       "Pears            11       4.2    46.2\n",
       "Pineapples        5       6.7    33.5\n",
       "Tomatoes         15       2.9     NaN\n",
       "Potatoes         28       1.4     NaN"
      ]
     },
     "execution_count": 77,
     "metadata": {},
     "output_type": "execute_result"
    }
   ],
   "source": [
    "data_combined = pd.concat([data, data_new])\n",
    "data_combined\n",
    "#note that income for newest entries is undefined still"
   ]
  },
  {
   "cell_type": "markdown",
   "metadata": {},
   "source": [
    "For this extended data frame: determine also here the income per vegetable and recalculate and output the total daily income for selling both fruits\n",
    "and vegetables."
   ]
  },
  {
   "cell_type": "code",
   "execution_count": 79,
   "metadata": {},
   "outputs": [
    {
     "data": {
      "text/html": [
       "<div>\n",
       "<style scoped>\n",
       "    .dataframe tbody tr th:only-of-type {\n",
       "        vertical-align: middle;\n",
       "    }\n",
       "\n",
       "    .dataframe tbody tr th {\n",
       "        vertical-align: top;\n",
       "    }\n",
       "\n",
       "    .dataframe thead th {\n",
       "        text-align: right;\n",
       "    }\n",
       "</style>\n",
       "<table border=\"1\" class=\"dataframe\">\n",
       "  <thead>\n",
       "    <tr style=\"text-align: right;\">\n",
       "      <th></th>\n",
       "      <th>kg_sold</th>\n",
       "      <th>price_kg</th>\n",
       "      <th>income</th>\n",
       "    </tr>\n",
       "  </thead>\n",
       "  <tbody>\n",
       "    <tr>\n",
       "      <th>Bananas</th>\n",
       "      <td>20</td>\n",
       "      <td>1.9</td>\n",
       "      <td>38.0</td>\n",
       "    </tr>\n",
       "    <tr>\n",
       "      <th>Apples</th>\n",
       "      <td>35</td>\n",
       "      <td>3.5</td>\n",
       "      <td>122.5</td>\n",
       "    </tr>\n",
       "    <tr>\n",
       "      <th>Pears</th>\n",
       "      <td>11</td>\n",
       "      <td>4.2</td>\n",
       "      <td>46.2</td>\n",
       "    </tr>\n",
       "    <tr>\n",
       "      <th>Pineapples</th>\n",
       "      <td>5</td>\n",
       "      <td>6.7</td>\n",
       "      <td>33.5</td>\n",
       "    </tr>\n",
       "    <tr>\n",
       "      <th>Tomatoes</th>\n",
       "      <td>15</td>\n",
       "      <td>2.9</td>\n",
       "      <td>43.5</td>\n",
       "    </tr>\n",
       "    <tr>\n",
       "      <th>Potatoes</th>\n",
       "      <td>28</td>\n",
       "      <td>1.4</td>\n",
       "      <td>39.2</td>\n",
       "    </tr>\n",
       "  </tbody>\n",
       "</table>\n",
       "</div>"
      ],
      "text/plain": [
       "            kg_sold  price_kg  income\n",
       "Bananas          20       1.9    38.0\n",
       "Apples           35       3.5   122.5\n",
       "Pears            11       4.2    46.2\n",
       "Pineapples        5       6.7    33.5\n",
       "Tomatoes         15       2.9    43.5\n",
       "Potatoes         28       1.4    39.2"
      ]
     },
     "execution_count": 79,
     "metadata": {},
     "output_type": "execute_result"
    }
   ],
   "source": [
    "data_combined['income'] = data_combined['kg_sold'] * data_combined['price_kg']\n",
    "data_combined"
   ]
  },
  {
   "cell_type": "code",
   "execution_count": 80,
   "metadata": {},
   "outputs": [
    {
     "name": "stdout",
     "output_type": "stream",
     "text": [
      "The new total income perday by selling fruits is 322.9 pounds.\n"
     ]
    }
   ],
   "source": [
    "print(f'The new total income perday by selling fruits is', data_combined['income'].sum(), 'pounds.')"
   ]
  }
 ],
 "metadata": {
  "kernelspec": {
   "display_name": "Lloyd_Quantum",
   "language": "python",
   "name": "python3"
  },
  "language_info": {
   "codemirror_mode": {
    "name": "ipython",
    "version": 3
   },
   "file_extension": ".py",
   "mimetype": "text/x-python",
   "name": "python",
   "nbconvert_exporter": "python",
   "pygments_lexer": "ipython3",
   "version": "3.12.3"
  }
 },
 "nbformat": 4,
 "nbformat_minor": 2
}
